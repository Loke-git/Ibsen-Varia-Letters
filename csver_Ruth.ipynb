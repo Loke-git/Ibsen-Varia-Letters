{
 "cells": [
  {
   "cell_type": "markdown",
   "id": "714075c8",
   "metadata": {},
   "source": [
    "# Beskrivelse\n",
    "Undersøkelse i Fellesområdet > HISe > brev_csv > uttrekk_Ruth\n",
    "Finn ut om tall stemmer\n",
    "Dobbeltsjekking"
   ]
  },
  {
   "cell_type": "code",
   "execution_count": 1,
   "id": "64d2fc40",
   "metadata": {},
   "outputs": [],
   "source": [
    "import pandas as pd # PANDAS!"
   ]
  },
  {
   "cell_type": "code",
   "execution_count": 2,
   "id": "fa2aa551",
   "metadata": {},
   "outputs": [],
   "source": [
    "personer = pd.read_csv(\"Person_Register_Info.csv\")\n",
    "brev = pd.read_csv(\"Compiled_Letter_Data.csv\")"
   ]
  },
  {
   "cell_type": "code",
   "execution_count": 21,
   "id": "eb1ab6e3",
   "metadata": {},
   "outputs": [
    {
     "name": "stdout",
     "output_type": "stream",
     "text": [
      "118 \n",
      " LUDVIG ERNST DAVID, JOHAN (Josva) BRAVO, WOLFGANG ERHARDT, FREDERIK HERMAN (Friedrich Hermann) WOLFHAGEN, PASCAL MICHAEL POUL EGEDE KIERKEGAARD, prinsesse, f. Adelaide Nathan David PIGNATELLI, CHRISTIAN GEORG NATHAN DAVID, NIELS FREDERIK VILHELM HEGEL, CHRISTOPHER MATHIAS CLEMENS PETERSEN \n",
      " peLED, peJB, peDrEr, peFWo, pePK, peAP, peCD, peFH, peCP\n",
      "\n",
      "399 \n",
      " JULIAN (Flavius Claudius Julianus), av de kristne kalt APOSTATA (den frafalne), GREGOR FRA NAZIANZ, kalt Teologen, CAESARIUS fra Kappadokia, NIELS FREDERIK VILHELM HEGEL, EUNAPIOS, LUDVIG HOLBERG, HANS JACOB JENSEN \n",
      " peJu, peGreg, peCaes, peFH, peEun, peLuH, peHJJ\n",
      "\n",
      "800 \n",
      " FRANZ GRAF FOLLIOT DE CRENNEVILLE, JEAN LOUIS ERNEST MEISSONNIER, VIKTOR MORITZ KARL RATIBOR, J. LAMBERT BELLEFROID, JONGHE D’ARDOYE, VICOMTE DE, THEOPHILUS EDVARD HANSEN, LÉON JOSEPH FLORENTIN BONNAT, MAURICE COTTIER, PAUL DUBOIS, ALFRED DARCEL, NIKOLAUS DUMBA, HERMAN FREDERIK CAREL TEN KATE, CAMILLO BOITO, GIOVANNI DUPRÉ, CESARE MARIANI, FILIPPO PALIZZI, GIOVANNI STRAZZA, ALEKSEJ PETROVITSJ BOGOLJUBOV, ALEKSANDER PAVLOVITSJ BRÜLOV, THEODORE DE SAUSSURE, FRITZ LUDVIG VON DARDEL, BERNHARD AFINGER, LUDWIG KNAUS, KARL THEODOR VON PILOTY, EDUARD SCHLEICH, CARL CONSTANTIN HEINRICH STEFFECK, HERMANN WEISS, DIÓSCORO TEÓFILO DE LA PUEBLA TOLIN, FERENC PULSZKY VON CSELFALVA UND LUBÓCZ, GYÖRGY RÁHT, KARL COSTENOBLE, EDUARD VON ENGERTH, HEINRICH (Freiherr) VON FERSTEL, FRIEDRICH FRIEDLÄNDER, LOUIS/LUDWIG JACOBY, CARL KUNDMAN, ADOLF OBERMÜLLNER, HENRYK HIPOLIT RODAKOWSKI \n",
      " peFGFdC, peEMe, peVHvR, peBell, peJong, peTHa, peLBo, peMC, pePDu, peADa, peND, peHtK, peCBoi, peGDu, peCMar, peFPa, peGSt, peAPB, pePAB, peTdS, peDard, peBA, peLKn, peKvP, peESchl, peCCHS, peHWe, peDTPT, peFPvCuL, peGRa, peKCo, peEvE, peHvF, peFF, peLJac, peCKu, peAO, peHRo\n",
      "\n",
      "802 \n",
      " JULIAN (Flavius Claudius Julianus), av de kristne kalt APOSTATA (den frafalne), JOHANN JOACHIM WINCKELMANN, GOTTHOLD EPHRAIM LESSING, JOHANN WOLFGANG VON GOETHE, JOHANN CHRISTOPH FRIEDRICH VON SCHILLER, GREGOR FRA NAZIANZ, kalt Teologen, BASILEIOS DEN STORE, MARKOS, BASILEIOS AV ANCYRA, AMMIANUS MARCELLINUS, URSULUS, MICHAEL BIRKELAND, GAIUS IULIUS CAESAR \n",
      " peJu, peJJWi, peGEL, peJWGo, peFSch, peGreg, peBas, peMark, peBasAnc, peAmm, peUrs, peMB, peCas\n",
      "\n",
      "1364 \n",
      " (Blanche, f. baronesse Pereira, T. Ethofer og Mareo Ethofer) ETHOFER \n",
      " peEt\n",
      "\n"
     ]
    }
   ],
   "source": [
    "for idx,row in brev.iterrows():\n",
    "    people = str(row[\"Mentioned_Persons\"])\n",
    "    ids = str(row[\"Mentioned_Person_ID\"])\n",
    "    peoplesplit = people.split(\",\")\n",
    "    idssplit = ids.split(\",\")\n",
    "    if len(peoplesplit) == len(idssplit):\n",
    "        pass\n",
    "    else:\n",
    "        print(idx+2,\"\\n\",people,\"\\n\",ids)\n",
    "        print()\n",
    "# Add: sanitizing commas in varia\n",
    "\n",
    "# Compare IDs with the navneregister.xml file where there are commas present in the name\n",
    "\n",
    "# The navneregister.xml file contains lists of letters_mentioned and letters_received. Are we sure that these lists\n",
    "# are completely, 100% true and factually correct?\n",
    "# Difference between counting each letter's recipients/mentions and those lists probable."
   ]
  },
  {
   "cell_type": "code",
   "execution_count": 24,
   "id": "3a6b0eae",
   "metadata": {},
   "outputs": [
    {
     "data": {
      "text/plain": [
       "Index(['XML_ID', 'Wikidata_ID', 'Viaf_ID', 'NHRP_ID', 'Given_Name', 'Surname',\n",
       "       'Name', 'Year_of_Birth', 'Year_of_Death', 'Lifespan', 'Instance',\n",
       "       'Gender', 'Country_of_citizenship', 'Occupation', 'Letters_Received',\n",
       "       'Times_Mentioned', 'Brief_Description', 'Spouses_Name', 'Spouses_ID'],\n",
       "      dtype='object')"
      ]
     },
     "execution_count": 24,
     "metadata": {},
     "output_type": "execute_result"
    }
   ],
   "source": [
    "personer.columns # Data primarily from register file"
   ]
  },
  {
   "cell_type": "code",
   "execution_count": 23,
   "id": "4d005c0f",
   "metadata": {},
   "outputs": [
    {
     "data": {
      "text/plain": [
       "Index(['Letter_ID', 'Sender_ID', 'Sender_Name', 'Recipient_ID',\n",
       "       'Recipient_Name', 'Date', 'Dispatch_Location', 'Dispatch_Location_Abbr',\n",
       "       'GeoName_ID', 'toponymName', 'Country', 'Latitude', 'Longitude',\n",
       "       'Recipient_Adress', 'Recipient_Location', 'Recipient_Location_Abbr',\n",
       "       'Recipient_Addr_Latitude', 'Recipient_Addr_Longitude',\n",
       "       'Mentioned_Person_ID', 'Mentioned_Persons', 'Mentioned_Org_ID',\n",
       "       'Mentioned_Org', 'Mentioned_Works_IDs', 'Mention_Works_Title',\n",
       "       'Text_ID', 'Mention_Works_Genre', 'Collective_Vesions_ID',\n",
       "       'Mentioned_Places', 'Mentioned_Places_Abbr'],\n",
       "      dtype='object')"
      ]
     },
     "execution_count": 23,
     "metadata": {},
     "output_type": "execute_result"
    }
   ],
   "source": [
    "brev.columns # Data primarily from letter files"
   ]
  },
  {
   "cell_type": "code",
   "execution_count": 27,
   "id": "3903d1b0",
   "metadata": {},
   "outputs": [
    {
     "name": "stdout",
     "output_type": "stream",
     "text": [
      "B18741201GotT \n",
      " STORA TEATERN, GÖTEBORG \n",
      " orgGotT\n",
      "\n",
      "Budat18800707MGogBG \n",
      " MARCUS OG BERNT GRØNVOLD \n",
      " peMG, peBG\n",
      "\n",
      "B18801024FrkM \n",
      " BENNY, OTILIA OG THEA MATTHIESSEN \n",
      " peFrkM\n",
      "\n",
      "B18840704SuI \n",
      " SUSANNA OG SIGURD IBSEN \n",
      " peSuI, peSiI\n",
      "\n",
      "B18910410SuIogSiI \n",
      " SUSANNA OG SIGURD IBSEN \n",
      " peSuI, peSiI\n",
      "\n",
      "Budat18930617ChrSo \n",
      " CHRISTIAN OG CAROLINE SONTUM \n",
      " peChrSo, peCaSo\n",
      "\n",
      "B18931230KAWi \n",
      " KRISTIAN ANASTAS OG HEDVIG WINTERHJELM \n",
      " peKAWi, peHWi\n",
      "\n",
      "B18940324KG \n",
      " KRISTIAN OG NANCY GLØERSEN \n",
      " peKG, peNGl\n",
      "\n",
      "B18941220SuIogSiI \n",
      " SUSANNA OG SIGURD IBSEN \n",
      " peSuI, peSiI\n",
      "\n",
      "B18980111CHB \n",
      " HAKON OG SOPHIE BOECK \n",
      " peCHB, peSBoe\n",
      "\n",
      "B18990825OT \n",
      " OLA OG HELGA THOMMESSEN \n",
      " peOT, peHeTh\n",
      "\n",
      "B19000106PN \n",
      " PETER OG BETTY NANSEN \n",
      " pePN, peBN\n",
      "\n",
      "BudatIAa_onsker \n",
      " BJØRN OG INGEBORG BJØRNSON \n",
      " peBBj, peIAa\n",
      "\n",
      "Budat18950806ChrSo \n",
      " Christian og Caroline Sontum \n",
      " peChrSo, peCaSo\n",
      "\n"
     ]
    }
   ],
   "source": [
    "for idx,row in brev.iterrows():\n",
    "    letter = str(row[\"Letter_ID\"])\n",
    "    people = str(row[\"Recipient_Name\"])\n",
    "    ids = str(row[\"Recipient_ID\"])\n",
    "    peoplesplit = people.split(\",\")\n",
    "    idssplit = ids.split(\",\")\n",
    "    if len(peoplesplit) == len(idssplit):\n",
    "        pass\n",
    "    else:\n",
    "        print(letter,\"\\n\",people,\"\\n\",ids)\n",
    "        print()"
   ]
  },
  {
   "cell_type": "code",
   "execution_count": null,
   "id": "439c75f5",
   "metadata": {},
   "outputs": [],
   "source": []
  }
 ],
 "metadata": {
  "kernelspec": {
   "display_name": "Python 3",
   "language": "python",
   "name": "python3"
  },
  "language_info": {
   "codemirror_mode": {
    "name": "ipython",
    "version": 3
   },
   "file_extension": ".py",
   "mimetype": "text/x-python",
   "name": "python",
   "nbconvert_exporter": "python",
   "pygments_lexer": "ipython3",
   "version": "3.8.8"
  }
 },
 "nbformat": 4,
 "nbformat_minor": 5
}
